{
  "nbformat": 4,
  "nbformat_minor": 0,
  "metadata": {
    "colab": {
      "provenance": [],
      "authorship_tag": "ABX9TyOP76s8YqiOzqvT4m7Lcnra",
      "include_colab_link": true
    },
    "kernelspec": {
      "name": "python3",
      "display_name": "Python 3"
    },
    "language_info": {
      "name": "python"
    }
  },
  "cells": [
    {
      "cell_type": "markdown",
      "metadata": {
        "id": "view-in-github",
        "colab_type": "text"
      },
      "source": [
        "<a href=\"https://colab.research.google.com/github/chrislin1009/shishow/blob/main/EX02_05_PTT_Gossiping.ipynb\" target=\"_parent\"><img src=\"https://colab.research.google.com/assets/colab-badge.svg\" alt=\"Open In Colab\"/></a>"
      ]
    },
    {
      "cell_type": "code",
      "execution_count": 1,
      "metadata": {
        "colab": {
          "base_uri": "https://localhost:8080/"
        },
        "id": "M7xObAqL4J4y",
        "outputId": "0b30ec70-34bf-4cf7-ccd5-d2999b16efe0"
      },
      "outputs": [
        {
          "output_type": "execute_result",
          "data": {
            "text/plain": [
              "200"
            ]
          },
          "metadata": {},
          "execution_count": 1
        }
      ],
      "source": [
        "import requests\n",
        "from bs4 import BeautifulSoup\n",
        "\n",
        "url = 'https://www.ptt.cc/bbs/Movie/index.html'\n",
        "response = requests.get(url)\n",
        "response.status_code"
      ]
    },
    {
      "cell_type": "code",
      "source": [
        "soup = BeautifulSoup(response.text, 'html.parser')\n",
        "soup.title"
      ],
      "metadata": {
        "colab": {
          "base_uri": "https://localhost:8080/"
        },
        "id": "CAHEHNu_4v5T",
        "outputId": "18f177a1-156f-4f4c-c25c-3be72f9a7166"
      },
      "execution_count": 2,
      "outputs": [
        {
          "output_type": "execute_result",
          "data": {
            "text/plain": [
              "<title>看板 movie 文章列表 - 批踢踢實業坊</title>"
            ]
          },
          "metadata": {},
          "execution_count": 2
        }
      ]
    },
    {
      "cell_type": "code",
      "source": [
        "len(soup.find_all('div', class_='r-ent'))"
      ],
      "metadata": {
        "colab": {
          "base_uri": "https://localhost:8080/"
        },
        "id": "OdPYHogu415j",
        "outputId": "25ccb798-0bb3-4805-965f-8b1cd65ce4f1"
      },
      "execution_count": 3,
      "outputs": [
        {
          "output_type": "execute_result",
          "data": {
            "text/plain": [
              "9"
            ]
          },
          "metadata": {},
          "execution_count": 3
        }
      ]
    },
    {
      "cell_type": "code",
      "source": [
        "for atcl in soup.find_all('div', class_='r-ent'):\n",
        "  ttle = atcl.find('div', class_='title').a.text\n",
        "  href = atcl.find('div', class_='title').a.get('href')\n",
        "  date = atcl.find('div', class_='date').text\n",
        "  print(date, href, ttle)"
      ],
      "metadata": {
        "colab": {
          "base_uri": "https://localhost:8080/"
        },
        "id": "NE5HpSNy4525",
        "outputId": "709061ef-da06-47a1-baca-b6d60794f753"
      },
      "execution_count": 5,
      "outputs": [
        {
          "output_type": "stream",
          "name": "stdout",
          "text": [
            " 5/18 /bbs/movie/M.1747508474.A.C64.html [微雷]不可能的任務:最終清算 \n",
            " 5/18 /bbs/movie/M.1747531806.A.1D1.html [討論] 都在哪裡看的？不可能的任務\n",
            " 5/18 /bbs/movie/M.1747532325.A.ECA.html [好雷] 小雁與吳愛麗：人間最清醒的距離\n",
            " 5/18 /bbs/movie/M.1747536616.A.C97.html [  雷]死神與伊森\n",
            " 5/18 /bbs/movie/M.1747537053.A.B8F.html [負雷] 不可能的任務最終清算-玩命光頭阿湯哥\n",
            " 5/18 /bbs/movie/M.1747538052.A.525.html [討論] 不可能的任務 阿湯哥怎麼決定長短髮的\n",
            " 5/18 /bbs/movie/M.1747545811.A.B68.html [問片]問一部華人鬼片，鬼把頭拿下來梳頭\n",
            " 9/04 /bbs/movie/M.1630756788.A.1FE.html [公告] 電影板板規 2022/12/5\n",
            " 9/15 /bbs/movie/M.1694784041.A.89F.html [公告] 禁政治版規 及 投票結果\n"
          ]
        }
      ]
    },
    {
      "cell_type": "code",
      "source": [
        "'https://www.ptt.cc' + soup.find_all('a', class_='btn wide')[1].get('href')"
      ],
      "metadata": {
        "colab": {
          "base_uri": "https://localhost:8080/",
          "height": 36
        },
        "id": "HwCqjsfq5Bxb",
        "outputId": "09e4ebbc-8dd8-4108-e44e-7a354a649924"
      },
      "execution_count": 6,
      "outputs": [
        {
          "output_type": "execute_result",
          "data": {
            "text/plain": [
              "'https://www.ptt.cc/bbs/movie/index10602.html'"
            ],
            "application/vnd.google.colaboratory.intrinsic+json": {
              "type": "string"
            }
          },
          "metadata": {},
          "execution_count": 6
        }
      ]
    },
    {
      "cell_type": "code",
      "source": [
        "def get_articles(url):\n",
        "  response = requests.get(url)\n",
        "  soup = BeautifulSoup(response.text, 'lxml')\n",
        "  for atcl in soup.find_all('div', class_='r-ent'):\n",
        "    if atcl.find('div', class_='title').a:\n",
        "      ttle = atcl.find('div', class_='title').a.text\n",
        "      href = 'https://www.ptt.cc' + atcl.find('div', class_='title').a.get('href')\n",
        "    else:\n",
        "      ttle = atcl.find('div', class_='title').text\n",
        "      href = ''\n",
        "\n",
        "    date = atcl.find('div', class_='date').text\n",
        "    print(date, href, ttle)\n",
        "  url = 'https://www.ptt.cc' + soup.find_all('a', class_='btn wide')[1].get('href')\n",
        "  return url\n",
        "\n",
        "url = 'https://www.ptt.cc/bbs/Movie/index.html'\n",
        "for i in range(5):\n",
        "  url = get_articles(url)"
      ],
      "metadata": {
        "colab": {
          "base_uri": "https://localhost:8080/"
        },
        "id": "x9572VXU5Gtc",
        "outputId": "6feeacd0-0561-400d-915f-6507343b8935"
      },
      "execution_count": 7,
      "outputs": [
        {
          "output_type": "stream",
          "name": "stdout",
          "text": [
            " 5/18 https://www.ptt.cc/bbs/movie/M.1747508474.A.C64.html [微雷]不可能的任務:最終清算 \n",
            " 5/18 https://www.ptt.cc/bbs/movie/M.1747531806.A.1D1.html [討論] 都在哪裡看的？不可能的任務\n",
            " 5/18 https://www.ptt.cc/bbs/movie/M.1747532325.A.ECA.html [好雷] 小雁與吳愛麗：人間最清醒的距離\n",
            " 5/18 https://www.ptt.cc/bbs/movie/M.1747536616.A.C97.html [  雷]死神與伊森\n",
            " 5/18 https://www.ptt.cc/bbs/movie/M.1747537053.A.B8F.html [負雷] 不可能的任務最終清算-玩命光頭阿湯哥\n",
            " 5/18 https://www.ptt.cc/bbs/movie/M.1747538052.A.525.html [討論] 不可能的任務 阿湯哥怎麼決定長短髮的\n",
            " 5/18 https://www.ptt.cc/bbs/movie/M.1747545811.A.B68.html [問片]問一部華人鬼片，鬼把頭拿下來梳頭\n",
            " 9/04 https://www.ptt.cc/bbs/movie/M.1630756788.A.1FE.html [公告] 電影板板規 2022/12/5\n",
            " 9/15 https://www.ptt.cc/bbs/movie/M.1694784041.A.89F.html [公告] 禁政治版規 及 投票結果\n",
            " 5/17 https://www.ptt.cc/bbs/movie/M.1747468529.A.CCA.html Re: [負雷] 不可能的任務 複雜過頭 沒有共鳴的團隊\n",
            " 5/17 https://www.ptt.cc/bbs/movie/M.1747469313.A.339.html [LIVE] HBO 22:00 神鬼戰士II\n",
            " 5/17 https://www.ptt.cc/bbs/movie/M.1747472853.A.7BF.html Re: [討論] 劇情片是不是越來越沒人看了？\n",
            " 5/17 https://www.ptt.cc/bbs/movie/M.1747473763.A.8CA.html [  雷] 不可能的任務:最終清算\n",
            " 5/17 https://www.ptt.cc/bbs/movie/M.1747475711.A.784.html [無雷] 絕命終結站：血脈\n",
            " 5/17 https://www.ptt.cc/bbs/movie/M.1747482795.A.121.html [普雷] 不可能的任務8 就單純不夠爽\n",
            " 5/17 https://www.ptt.cc/bbs/movie/M.1747486724.A.9CB.html [普雷] 不可能的任務8  總結這三十年的歷程 \n",
            " 5/17 https://www.ptt.cc/bbs/movie/M.1747489277.A.A29.html [好無雷] 不可能的任務八\n",
            " 5/17 https://www.ptt.cc/bbs/movie/M.1747489587.A.CC7.html [好雷] 不可能的任務 最終清算\n",
            " 5/17 https://www.ptt.cc/bbs/movie/M.1747490620.A.60A.html [好無雷] 不可能的任務 最終清算 好萊塢大片該有\n",
            " 5/17 https://www.ptt.cc/bbs/movie/M.1747493063.A.A66.html [討論] 國賓2230不可能的任務\n",
            " 5/17 https://www.ptt.cc/bbs/movie/M.1747493356.A.51F.html [好雷] 殭屍合唱團：夢想未完\n",
            " 5/17 https://www.ptt.cc/bbs/movie/M.1747494542.A.26B.html [ 普好雷] 不可能的任務8比上集好看\n",
            " 5/17 https://www.ptt.cc/bbs/movie/M.1747497179.A.69A.html [  普雷]  MI8 最終清算\n",
            " 5/18 https://www.ptt.cc/bbs/movie/M.1747498174.A.37A.html [雷] 絕命終結站血脈順序問題(有雷)\n",
            " 5/18 https://www.ptt.cc/bbs/movie/M.1747502442.A.D2C.html [無雷] 一天看兩部：絕命、不可能\n",
            " 5/18 https://www.ptt.cc/bbs/movie/M.1747502691.A.D3E.html [負雷] 不可能的任務：阿湯哥跟一群龍套\n",
            " 5/18 https://www.ptt.cc/bbs/movie/M.1747502930.A.E05.html [普好雷] MI8 最終清算 略顯拖沓但情懷滿點\n",
            " 5/18 https://www.ptt.cc/bbs/movie/M.1747503150.A.ECE.html [好雷] 不可能的任務：最後清算\n",
            " 5/18 https://www.ptt.cc/bbs/movie/M.1747504432.A.33D.html [好雷] 不可能的任務：最終清算\n",
            " 5/16 https://www.ptt.cc/bbs/movie/M.1747406559.A.CA1.html [好雷] 1.史蒂芬金之猴子, 2.猴你死\n",
            " 5/16 https://www.ptt.cc/bbs/movie/M.1747408134.A.E4F.html [新聞]布蕾克萊芙莉爆「威脅」泰勒絲挺她！布蕾\n",
            " 5/16 https://www.ptt.cc/bbs/movie/M.1747408210.A.177.html [新聞]史嘉蕾喬韓森:愛情不用翻譯爆紅後被物化！\n",
            " 5/16 https://www.ptt.cc/bbs/movie/M.1747408777.A.952.html [新聞] 27屆台北電影獎入圍揭曉 張艾嘉夏于喬再爭\n",
            " 5/16 https://www.ptt.cc/bbs/movie/M.1747409601.A.F48.html [新聞] 「蜘蛛人」霍蘭德出演《復仇者聯盟5》！\n",
            " 5/16 https://www.ptt.cc/bbs/movie/M.1747410441.A.6FB.html [好雷]絕命終結站6-逆向夢遊先生\n",
            " 5/17 https://www.ptt.cc/bbs/movie/M.1747411453.A.161.html [討論] 罪人的疑問?\n",
            " 5/17 https://www.ptt.cc/bbs/movie/M.1747416233.A.157.html [討論] 不可能的任務電影中印象最深刻的換臉？ \n",
            " 5/17 https://www.ptt.cc/bbs/movie/M.1747418318.A.D83.html [負雷] 不可能的任務最終清算\n",
            " 5/17 https://www.ptt.cc/bbs/movie/M.1747446885.A.93B.html [好微雷] 不可能的任務：最終清算\n",
            " 5/17 https://www.ptt.cc/bbs/movie/M.1747451001.A.DF2.html [討論] 原因複雜，卻能直接把人弄哭的橋段\n",
            " 5/17 https://www.ptt.cc/bbs/movie/M.1747451334.A.E40.html [討論] 風林火山坎城首映不如預期\n",
            " 5/17 https://www.ptt.cc/bbs/movie/M.1747456597.A.D8D.html [討論] 約翰威廉斯版的配樂適合新世代超人嗎?\n",
            " 5/17 https://www.ptt.cc/bbs/movie/M.1747458500.A.627.html [新聞] Netflix年度盛會6月登場 女神卡卡驚喜宣\n",
            " 5/17 https://www.ptt.cc/bbs/movie/M.1747458732.A.647.html [負雷] 不可能的任務 複雜過頭 沒有共鳴的團隊\n",
            " 5/17 https://www.ptt.cc/bbs/movie/M.1747461272.A.CB5.html [請益] 不可能的任務最終清算ScreenX\n",
            " 5/17 https://www.ptt.cc/bbs/movie/M.1747462618.A.5F6.html [微好雷] 不可能的任務8  真的結束了嗎？\n",
            " 5/17 https://www.ptt.cc/bbs/movie/M.1747464134.A.7A4.html [討論] 劇情片是不是越來越沒人看了？\n",
            " 5/17 https://www.ptt.cc/bbs/movie/M.1747466875.A.47F.html [好雷]不可能的任務:最終清算\n",
            " 5/17 https://www.ptt.cc/bbs/movie/M.1747467960.A.279.html [好雷] 不可能的任務8:比7好一點，但也就一點\n",
            " 5/15 https://www.ptt.cc/bbs/movie/M.1747322689.A.D78.html [新聞]《復5》X戰警、復聯成員史詩大決戰！全新\n",
            " 5/15 https://www.ptt.cc/bbs/movie/M.1747322993.A.E6B.html [新聞] 《臥虎藏龍》25周年紀念！李安擁抱章子\n",
            " 5/15 https://www.ptt.cc/bbs/movie/M.1747323064.A.C23.html [新聞] 《超人》3分鐘新預告片12個精彩看點！\n",
            " 5/15 https://www.ptt.cc/bbs/movie/M.1747323421.A.E1B.html [新聞]史嘉蕾不回歸黑寡婦！《終局之戰》未獲肯\n",
            " 5/15 https://www.ptt.cc/bbs/movie/M.1747324434.A.759.html [好雷] 不可能的任務-最終清算\n",
            " 5/16 https://www.ptt.cc/bbs/movie/M.1747326187.A.4DE.html [討論] 奧德賽將成為首部全片IMAX膠卷商業電影\n",
            " 5/16 https://www.ptt.cc/bbs/movie/M.1747327710.A.2E8.html [請益] 沒看過不可能任務上集 有辦法接下集嗎?\n",
            " 5/16 https://www.ptt.cc/bbs/movie/M.1747333020.A.B9D.html [討論] 駭客任務4沒那麼不堪啊\n",
            " 5/16 https://www.ptt.cc/bbs/movie/M.1747355090.A.FB3.html [新聞] Energy體力猛如阿湯哥！挑戰爬上101頂樓\n",
            " 5/16 https://www.ptt.cc/bbs/movie/M.1747357972.A.551.html [新聞]小美人魚海莉貝利遭家暴！被抓頭去撞方向\n",
            " 5/16 https://www.ptt.cc/bbs/movie/M.1747362930.A.FCC.html [新聞] 丹佐華盛頓、羅伯派汀森合演搶劫新片 \n",
            " 5/16 https://www.ptt.cc/bbs/movie/M.1747365040.A.847.html [討論] 紐西蘭政府增加5.77億紐幣補助國外電影\n",
            " 5/16 https://www.ptt.cc/bbs/movie/M.1747367281.A.CEB.html [討論] 史蒂芬金之猴子上串流\n",
            " 5/16 https://www.ptt.cc/bbs/movie/M.1747370538.A.3EC.html [情報] 李奧納多《一戰再戰》新預告，9/25上映\n",
            " 5/16 https://www.ptt.cc/bbs/movie/M.1747379620.A.B66.html [情報] 2025 坎城影展 全單元評審團名單\n",
            " 5/16 https://www.ptt.cc/bbs/movie/M.1747384478.A.AE7.html [請益] 不可能的任務補片請益\n",
            " 5/16 https://www.ptt.cc/bbs/movie/M.1747388822.A.046.html [新聞] DC定10年計畫強推四大超級英雄 搶攻全球\n",
            " 5/16 https://www.ptt.cc/bbs/movie/M.1747392939.A.B15.html [討論] 全面啟動柯伯的某個情節能避免悲劇嗎\n",
            " 5/16 https://www.ptt.cc/bbs/movie/M.1747401836.A.E8D.html [討論] 大尾鱸鰻3可以重現國片榮耀嗎?\n",
            " 5/16 https://www.ptt.cc/bbs/movie/M.1747401994.A.3FA.html [新聞] 《藍波》前傳10月在泰國開拍 選角進行中\n",
            " 5/15 https://www.ptt.cc/bbs/movie/M.1747242068.A.868.html [討論] 丹尼爾克雷格沒演007在幹嘛？\n",
            " 5/15 https://www.ptt.cc/bbs/movie/M.1747244109.A.73E.html [討論] 大家最喜歡哪個男演員版本的超人？\n",
            " 5/15 https://www.ptt.cc/bbs/movie/M.1747254030.A.676.html [討論] 不可能的任務8 爛番茄88% MTC 80%\n",
            " 5/15 https://www.ptt.cc/bbs/movie/M.1747267588.A.960.html [情報] 《再見星上人》 | 正式預告 | Netflix\n",
            " 5/15 https://www.ptt.cc/bbs/movie/M.1747271890.A.23A.html [請益] 角頭大橋頭演員詢問\n",
            " 5/15 https://www.ptt.cc/bbs/movie/M.1747288301.A.91C.html Fw: [LIVE] 北影27 台北電影獎入圍名單1430同步公布\n",
            " 5/15 https://www.ptt.cc/bbs/movie/M.1747292295.A.E19.html [情報] 2025 台北電影獎 入圍名單\n",
            " 5/15 https://www.ptt.cc/bbs/movie/M.1747293401.A.431.html [討論] 絕命終結站6 爛蕃茄95%\n",
            " 5/15 https://www.ptt.cc/bbs/movie/M.1747296946.A.7AD.html [情報] 2025 台北電影獎 評審團名單\n",
            " 5/15 https://www.ptt.cc/bbs/movie/M.1747299178.A.BD6.html [好雷]  絕命終結站:血脈 死神來了:血脈 (推文雷\n",
            " 5/15 https://www.ptt.cc/bbs/movie/M.1747299272.A.420.html [普雷] 雷霆特攻隊* 不一樣的英雄片\n",
            " 5/15 https://www.ptt.cc/bbs/movie/M.1747300398.A.FC9.html [片單] 準備美食上級卻不來吃的片\n",
            " 5/15 https://www.ptt.cc/bbs/movie/M.1747300777.A.6C3.html [負雷] 奧德蓋任務\n",
            " 5/15 https://www.ptt.cc/bbs/movie/M.1747301602.A.6BB.html [討論] 鋼鐵人3 小男孩到底有沒有在計畫內？\n",
            " 5/15 https://www.ptt.cc/bbs/movie/M.1747304614.A.E5D.html [好無雷] 最終清算 講了30年的故事\n",
            " 5/15 https://www.ptt.cc/bbs/movie/M.1747307605.A.672.html [討論] 絕命終結站:血脈  Erik意外的推測(雷）\n",
            " 5/15 https://www.ptt.cc/bbs/movie/M.1747315867.A.D41.html [新聞] 勞勃狄尼洛獲金棕櫚獎 李奧納多致詞謝他\n",
            " 5/15 https://www.ptt.cc/bbs/movie/M.1747319750.A.C7A.html [無雷]《 他是我的！》觀後感：擁抱她/他的理由\n",
            " 5/15 https://www.ptt.cc/bbs/movie/M.1747320747.A.044.html [討論] 《絕命終結站》喜好排名~？\n",
            " 5/15 https://www.ptt.cc/bbs/movie/M.1747321505.A.CCA.html [普好雷] 四重點看《雷霆特攻隊*》的自我救贖\n"
          ]
        }
      ]
    },
    {
      "cell_type": "code",
      "source": [
        "def get_articles(url):\n",
        "  response = requests.get(url)\n",
        "  soup = BeautifulSoup(response.text, 'lxml')\n",
        "  for atcl in soup.find_all('div', class_='r-ent'):\n",
        "    if atcl.find('div', class_='title').a:\n",
        "      ttle = atcl.find('div', class_='title').a.text\n",
        "      href = 'https://www.ptt.cc' + atcl.find('div', class_='title').a.get('href')\n",
        "    else:\n",
        "      ttle = atcl.find('div', class_='title').text\n",
        "      href = ''\n",
        "\n",
        "    date = atcl.find('div', class_='date').text\n",
        "    print(date, href, ttle)\n",
        "  url = 'https://www.ptt.cc' + soup.find_all('a', class_='btn wide')[1].get('href')\n",
        "  return url\n",
        "\n",
        "url = 'https://www.ptt.cc/bbs/Gossiping/index.html'\n",
        "for i in range(5):\n",
        "  url = get_articles(url)"
      ],
      "metadata": {
        "colab": {
          "base_uri": "https://localhost:8080/"
        },
        "id": "n6Tmweaa5VPv",
        "outputId": "f980fc7f-d4ab-4bf8-8644-f2dd7a7c7656"
      },
      "execution_count": 9,
      "outputs": [
        {
          "output_type": "stream",
          "name": "stdout",
          "text": [
            " 5/18 https://www.ptt.cc/bbs/Gossiping/M.1747546362.A.222.html [問卦] 要怎麼簡稱「中分龜頭」？\n",
            " 5/18 https://www.ptt.cc/bbs/Gossiping/M.1747546375.A.8BB.html [問卦] 公投結果是反對大法官釋憲會怎樣?\n",
            " 5/18 https://www.ptt.cc/bbs/Gossiping/M.1747546377.A.56D.html [新聞] 印度封鎖2家大陸官媒的X帳號 稱其散播\n",
            " 5/18 https://www.ptt.cc/bbs/Gossiping/M.1747546379.A.65F.html [爆卦] 太陽能發威了！好強喔！\n",
            " 5/18 https://www.ptt.cc/bbs/Gossiping/M.1747546397.A.BB6.html [問卦] 台灣現在殺人理由這麼隨便的嗎?\n",
            " 5/18 https://www.ptt.cc/bbs/Gossiping/M.1747546520.A.576.html [問卦] 不缺電是不是可以不用節約用電\n",
            " 5/18 https://www.ptt.cc/bbs/Gossiping/M.1747546531.A.6C1.html [新聞] 遊客瘋日本「性愛之旅」！東京淪買春城\n",
            " 5/18 https://www.ptt.cc/bbs/Gossiping/M.1747546606.A.27A.html [新聞] 加州棕櫚泉大爆炸釀1死 FBI：恐怖主義行\n",
            " 5/18 https://www.ptt.cc/bbs/Gossiping/M.1747546623.A.A29.html [問卦] 32處男發現聯誼真的蠻殘酷的☹ \n",
            " 1/21 https://www.ptt.cc/bbs/Gossiping/M.1737398137.A.644.html [公告] 八卦板板規(2025.01.21)\n",
            " 5/07 https://www.ptt.cc/bbs/Gossiping/M.1746611476.A.966.html [公告] 群組廢棄小組長判決併口頭警告 水桶\n",
            " 5/14 https://www.ptt.cc/bbs/Gossiping/M.1747208198.A.FCF.html [協尋] 台中西區精誠路橘貓哈姆/懸賞3萬\n",
            " 5/14 https://www.ptt.cc/bbs/Gossiping/M.1747234499.A.28B.html [協尋] 台北南港區研究院路/和尚鸚鵡\n",
            " 5/15 https://www.ptt.cc/bbs/Gossiping/M.1747288721.A.DB3.html [協尋] 宜蘭羅東貓咪協尋，懸賞一萬\n",
            " 5/18 https://www.ptt.cc/bbs/Gossiping/M.1747545523.A.DB9.html [新聞] 錢包不見...高捷乘客按緊急對講機協尋\n",
            " 5/18 https://www.ptt.cc/bbs/Gossiping/M.1747545590.A.548.html [問卦] 兵役的天花板到底是什麼？\n",
            " 5/18 https://www.ptt.cc/bbs/Gossiping/M.1747545593.A.CB8.html [新聞] 花蓮廂型車上午衝入知名早午餐店 10多人\n",
            " 5/18 https://www.ptt.cc/bbs/Gossiping/M.1747545622.A.C5A.html Re: [新聞] 「希望中國能了解台灣的善意」 賴清德：\n",
            " 5/18 https://www.ptt.cc/bbs/Gossiping/M.1747545640.A.C41.html [問卦] 有瑞士物價真是可怕的八卦嗎?\n",
            " 5/18  \n",
            "\t\t\t\n",
            "\t\t\t\t(本文已被刪除) [aventadorsvj]\n",
            "\t\t\t\n",
            "\t\t\t\n",
            " 5/18 https://www.ptt.cc/bbs/Gossiping/M.1747545759.A.E74.html [問卦] 花蓮姦殺案法律人會怎麼判\n",
            " 5/18 https://www.ptt.cc/bbs/Gossiping/M.1747545798.A.0DA.html [新聞] 都1人參賽！昆凌90歲爺爺、105歲人瑞都在\n",
            " 5/18 https://www.ptt.cc/bbs/Gossiping/M.1747545884.A.E65.html [問卦] 有沒有台北市外面現在又濕又熱的八掛？\n",
            " 5/18 https://www.ptt.cc/bbs/Gossiping/M.1747545904.A.017.html Re: [新聞] 國旅太慘！連假訂房率「蓋牌」僅公布破6\n",
            " 5/18 https://www.ptt.cc/bbs/Gossiping/M.1747545976.A.96D.html [新聞] 全國中正路改名？內政部已委託研究　將與\n",
            " 5/18 https://www.ptt.cc/bbs/Gossiping/M.1747545980.A.1C6.html [問卦] 瑞隆路是紀念誰而命名\n",
            " 5/18 https://www.ptt.cc/bbs/Gossiping/M.1747545992.A.5C2.html [問卦] 美秀集團出大事了？\n",
            " 5/18 https://www.ptt.cc/bbs/Gossiping/M.1747545998.A.680.html [問卦] 早說過要平均交配權，有誰反對？\n",
            " 5/18 https://www.ptt.cc/bbs/Gossiping/M.1747546111.A.23A.html [問卦] 台灣是不是這波關稅戰最大輸家？\n",
            " 5/18 https://www.ptt.cc/bbs/Gossiping/M.1747546114.A.54A.html [問卦] 橘線卡在台北橋\n",
            " 5/18 https://www.ptt.cc/bbs/Gossiping/M.1747546179.A.931.html [問卦] 今天空氣品質如何？\n",
            " 5/18 https://www.ptt.cc/bbs/Gossiping/M.1747546265.A.0FB.html Re: [問卦] 早說過要平均交配權，有誰反對？\n",
            " 5/18 https://www.ptt.cc/bbs/Gossiping/M.1747546301.A.B93.html [問卦] 0核電就是0核災風險很難懂？\n",
            " 5/18 https://www.ptt.cc/bbs/Gossiping/M.1747546360.A.CCF.html [問卦] 如果黃仁勳長的像中分龜頭人 還有粉絲嗎?\n",
            " 5/18 https://www.ptt.cc/bbs/Gossiping/M.1747545028.A.4D6.html [問卦] 準備畏罪輕生應該不會死刑了吧~\n",
            " 5/18 https://www.ptt.cc/bbs/Gossiping/M.1747545112.A.95C.html [新聞] 剴剴案！近14萬人籲虐童判死　法務部：\n",
            " 5/18 https://www.ptt.cc/bbs/Gossiping/M.1747545117.A.00D.html [問卦] 有沒有什麼療癒舒壓的影片推薦阿\n",
            " 5/18 https://www.ptt.cc/bbs/Gossiping/M.1747545123.A.4E7.html Re: [新聞] 「希望中國能了解台灣的善意」 賴清德：\n",
            " 5/18 https://www.ptt.cc/bbs/Gossiping/M.1747545136.A.ECB.html [新聞] 撐26年竟沒人在用！Google搜尋終於計畫\n",
            " 5/18 https://www.ptt.cc/bbs/Gossiping/M.1747545158.A.F2C.html [新聞] 國旅太慘！連假訂房率「蓋牌」僅公布破6\n",
            " 5/18 https://www.ptt.cc/bbs/Gossiping/M.1747545159.A.56C.html Re: [問卦] 如果一審無罪，是不是就不能繼續羈押?\n",
            " 5/18 https://www.ptt.cc/bbs/Gossiping/M.1747545178.A.FF8.html [問卦] 台灣是不是也有共青團嗎？\n",
            " 5/18 https://www.ptt.cc/bbs/Gossiping/M.1747545181.A.B35.html Re: [問卦] 南部人會開始後悔反核了嗎\n",
            " 5/18 https://www.ptt.cc/bbs/Gossiping/M.1747545181.A.2C0.html [問卦] 珠珠寶貝在蜜大腿綁黑帶= =\n",
            " 5/18 https://www.ptt.cc/bbs/Gossiping/M.1747545198.A.95D.html [問卦] 開放民眾認購綠電\n",
            " 5/18 https://www.ptt.cc/bbs/Gossiping/M.1747545213.A.7DD.html [問卦] 閃兵集團沒銷毀資料也太沒職業道德了吧\n",
            " 5/18 https://www.ptt.cc/bbs/Gossiping/M.1747545220.A.5D4.html [問卦] 綠能喊得震天嘎響，結果只佔不到10%?\n",
            " 5/18 https://www.ptt.cc/bbs/Gossiping/M.1747545275.A.57D.html [問卦] 有沒有久病成良醫的卦\n",
            " 5/18 https://www.ptt.cc/bbs/Gossiping/M.1747545278.A.823.html [問卦] 密室逃脫484玩個幾次就膩了阿\n",
            " 5/18 https://www.ptt.cc/bbs/Gossiping/M.1747545291.A.262.html [問卦] 核電0 所以台灣正式進入零碳排國家？\n",
            " 5/18 https://www.ptt.cc/bbs/Gossiping/M.1747545307.A.638.html [問卦] 看人家賣祖產 在那邊爽  感覺很差\n",
            " 5/18 https://www.ptt.cc/bbs/Gossiping/M.1747545347.A.E45.html [問卦] 發明鹼粽的人 到底在想什麼\n",
            " 5/18 https://www.ptt.cc/bbs/Gossiping/M.1747545452.A.95B.html [新聞] 朱立倫：賴總統只要是少數就用罷免解決 \n",
            " 5/18 https://www.ptt.cc/bbs/Gossiping/M.1747545455.A.49D.html Re: [問卦] 以人類的設計 撐傘是不是滿智障的？\n",
            " 5/18 https://www.ptt.cc/bbs/Gossiping/M.1747544516.A.E2E.html [問卦] A片為啥只有女的露臉？甲片呢\n",
            " 5/18 https://www.ptt.cc/bbs/Gossiping/M.1747544523.A.D10.html [問卦] 徐若熙跟張奕在新莊城堡是否能對決八卦?\n",
            " 5/18 https://www.ptt.cc/bbs/Gossiping/M.1747544575.A.320.html Re: [問卦] 如何判斷女孩兒有沒有墊？\n",
            " 5/18 https://www.ptt.cc/bbs/Gossiping/M.1747544609.A.92E.html [問卦] 有沒有港鎮隊三號位挖洞貼廣告的卦\n",
            " 5/18 https://www.ptt.cc/bbs/Gossiping/M.1747544622.A.A0C.html Re: [新聞] 「希望中國能了解台灣的善意」 賴清德：\n",
            " 5/18 https://www.ptt.cc/bbs/Gossiping/M.1747544713.A.68F.html [問卦] 什麼時候火力發電也歸零？\n",
            " 5/18 https://www.ptt.cc/bbs/Gossiping/M.1747544740.A.004.html [問卦] 趕快確認你家限電編組代號，H不會被限電\n",
            " 5/18 https://www.ptt.cc/bbs/Gossiping/M.1747544790.A.509.html Re: [新聞] 算中強震！命理師再預言柯文哲關到2027\n",
            " 5/18 https://www.ptt.cc/bbs/Gossiping/M.1747544797.A.6EC.html [新聞] 快訊／勒殺花蓮女教師！喑啞男落網了　\n",
            " 5/18 https://www.ptt.cc/bbs/Gossiping/M.1747544841.A.43B.html [問卦] 手遊都在炒短怎麼還有人要儲值？\n",
            " 5/18 https://www.ptt.cc/bbs/Gossiping/M.1747544876.A.F4D.html Re: [新聞] 性侵未成年人還拍攝！陸今一口氣處決三人\n",
            " 5/18 https://www.ptt.cc/bbs/Gossiping/M.1747544880.A.DAF.html [問卦] RM跟百達翡麗哪個地位高啊？\n",
            " 5/18 https://www.ptt.cc/bbs/Gossiping/M.1747544909.A.5CF.html [問卦] 台北週末放假都下雨，正常嗎？\n",
            " 5/18 https://www.ptt.cc/bbs/Gossiping/M.1747544920.A.0DC.html Re: [問卦] 房價是不是已漲到 沒啥人能接盤了？\n",
            " 5/18 https://www.ptt.cc/bbs/Gossiping/M.1747544946.A.68F.html [問卦] 大腸癌和肺癌是什麼時後黃金交叉的？\n",
            " 5/18 https://www.ptt.cc/bbs/Gossiping/M.1747544947.A.70E.html Re: [新聞] 賴總統稱罷免可促直接民權黃國昌提3點嗆\n",
            " 5/18 https://www.ptt.cc/bbs/Gossiping/M.1747544969.A.B1A.html [新聞] 綠卡樂透大升級？外媒稱美國政府考慮拍真\n",
            " 5/18 https://www.ptt.cc/bbs/Gossiping/M.1747544983.A.D05.html [問卦] 美國製造業回流目的！？\n",
            " 5/18  \n",
            "\t\t\t\n",
            "\t\t\t\t(本文已被刪除) [albertsue]\n",
            "\t\t\t\n",
            "\t\t\t\n",
            " 5/18 https://www.ptt.cc/bbs/Gossiping/M.1747544997.A.EDD.html Re: [問卦] 房價是不是已漲到 沒啥人能接盤了？\n",
            " 5/18 https://www.ptt.cc/bbs/Gossiping/M.1747543690.A.EE0.html [問卦] 壽司郎味增湯比較鹹嗎？\n",
            " 5/18 https://www.ptt.cc/bbs/Gossiping/M.1747543719.A.9A2.html [新聞] 核電歸零！他曝火力發電「飆破9成」　醫\n",
            " 5/18 https://www.ptt.cc/bbs/Gossiping/M.1747543744.A.A6F.html [問卦] 這碗豚骨拉麵有幾分？\n",
            " 5/18 https://www.ptt.cc/bbs/Gossiping/M.1747543804.A.248.html [問卦] 有人有Gmail帳號被盜的經驗嗎? \n",
            " 5/18 https://www.ptt.cc/bbs/Gossiping/M.1747543829.A.040.html [問卦] 男生沒有生理假是不是一種歧視?\n",
            " 5/18 https://www.ptt.cc/bbs/Gossiping/M.1747543868.A.5F4.html Re: [新聞] 端午連假僅3縣市訂房率逾6成　觀光署不再\n",
            " 5/18 https://www.ptt.cc/bbs/Gossiping/M.1747543942.A.09B.html Re: [新聞] 性侵未成年人還拍攝！陸今一口氣處決\n",
            " 5/18 https://www.ptt.cc/bbs/Gossiping/M.1747543948.A.190.html [問卦] 台北市有辦個什麼美食比賽呢\n",
            " 5/18 https://www.ptt.cc/bbs/Gossiping/M.1747544029.A.29D.html [問卦] 南部人會開始後悔反核了嗎\n",
            " 5/18 https://www.ptt.cc/bbs/Gossiping/M.1747544042.A.FA4.html Re: [問卦] 房板似乎很痛恨不生小孩的台灣人？\n",
            " 5/18 https://www.ptt.cc/bbs/Gossiping/M.1747544045.A.94D.html [問卦] 櫻島大爆射會破紀錄嗎？\n",
            " 5/18 https://www.ptt.cc/bbs/Gossiping/M.1747544066.A.478.html [問卦] 賣保健\"食品\"484暴利超好賺?\n",
            " 5/18 https://www.ptt.cc/bbs/Gossiping/M.1747544117.A.FD6.html [問卦] 靠著捧皇帝懶趴站到最高位歷史上有誰?\n",
            " 5/18 https://www.ptt.cc/bbs/Gossiping/M.1747544121.A.E8F.html Re: [新聞] 快訊／高雄瑞豐商圈驚傳墜樓！42歲投顧董\n",
            " 5/18 https://www.ptt.cc/bbs/Gossiping/M.1747544178.A.DAE.html Re: [新聞] 賴總統稱罷免可促直接民權黃國昌提3點嗆\n",
            " 5/18 https://www.ptt.cc/bbs/Gossiping/M.1747544185.A.1E9.html Re: [新聞] 核電歸零！他曝火力發電「飆破9成」　醫\n",
            " 5/18 https://www.ptt.cc/bbs/Gossiping/M.1747544274.A.62C.html Re: [新聞] 算中強震！命理師再預言柯文哲關到2\n",
            " 5/18 https://www.ptt.cc/bbs/Gossiping/M.1747544305.A.E75.html [問卦] 現在風向是 大家愛當兵~\n",
            " 5/18 https://www.ptt.cc/bbs/Gossiping/M.1747544333.A.1FB.html [問卦] 食物中的邊緣人-青豆？\n",
            " 5/18 https://www.ptt.cc/bbs/Gossiping/M.1747544405.A.4D2.html [問卦] 世壯運下大雨，遠雄現在在想甚麼?\n"
          ]
        }
      ]
    }
  ]
}