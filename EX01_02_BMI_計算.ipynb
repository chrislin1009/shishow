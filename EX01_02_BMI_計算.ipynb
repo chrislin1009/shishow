{
  "nbformat": 4,
  "nbformat_minor": 0,
  "metadata": {
    "colab": {
      "provenance": [],
      "authorship_tag": "ABX9TyNRLClroX5PO1n+O7fOw1Xf",
      "include_colab_link": true
    },
    "kernelspec": {
      "name": "python3",
      "display_name": "Python 3"
    },
    "language_info": {
      "name": "python"
    }
  },
  "cells": [
    {
      "cell_type": "markdown",
      "metadata": {
        "id": "view-in-github",
        "colab_type": "text"
      },
      "source": [
        "<a href=\"https://colab.research.google.com/github/chrislin1009/shishow/blob/main/EX01_02_BMI_%E8%A8%88%E7%AE%97.ipynb\" target=\"_parent\"><img src=\"https://colab.research.google.com/assets/colab-badge.svg\" alt=\"Open In Colab\"/></a>"
      ]
    },
    {
      "cell_type": "code",
      "execution_count": 3,
      "metadata": {
        "colab": {
          "base_uri": "https://localhost:8080/"
        },
        "id": "iJcbaSDIK86v",
        "outputId": "724dee3d-859c-4cfe-adfd-4c5d5eb41438"
      },
      "outputs": [
        {
          "output_type": "stream",
          "name": "stdout",
          "text": [
            "請輸入身高(cm)123\n",
            "請輸入體重(kg)45\n",
            "36.6\n"
          ]
        }
      ],
      "source": [
        "# 輸入身高\n",
        "ht = int(input('請輸入身高(cm)'))\n",
        "# 輸入體重\n",
        "wt = int(input('請輸入體重(kg)'))\n",
        "# 計算其BMI\n",
        "bmi = wt/ht*100\n",
        "# 輸出結果\n",
        "BMI = print(round(bmi,1))"
      ]
    }
  ]
}