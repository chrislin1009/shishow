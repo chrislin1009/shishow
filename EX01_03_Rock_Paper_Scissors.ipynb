{
  "nbformat": 4,
  "nbformat_minor": 0,
  "metadata": {
    "colab": {
      "provenance": [],
      "authorship_tag": "ABX9TyMtk8SUTRQWWLQEaCpWpWC+",
      "include_colab_link": true
    },
    "kernelspec": {
      "name": "python3",
      "display_name": "Python 3"
    },
    "language_info": {
      "name": "python"
    }
  },
  "cells": [
    {
      "cell_type": "markdown",
      "metadata": {
        "id": "view-in-github",
        "colab_type": "text"
      },
      "source": [
        "<a href=\"https://colab.research.google.com/github/chrislin1009/shishow/blob/main/EX01_03_Rock_Paper_Scissors.ipynb\" target=\"_parent\"><img src=\"https://colab.research.google.com/assets/colab-badge.svg\" alt=\"Open In Colab\"/></a>"
      ]
    },
    {
      "cell_type": "code",
      "execution_count": 22,
      "metadata": {
        "colab": {
          "base_uri": "https://localhost:8080/"
        },
        "id": "IiEVAcFDRwZL",
        "outputId": "ecdf7c54-06f1-4f91-c9ba-9a8d33a35bd0"
      },
      "outputs": [
        {
          "output_type": "stream",
          "name": "stdout",
          "text": [
            "請輸入出拳選擇:2\n",
            "computer: 2\n",
            "Draw\n"
          ]
        }
      ],
      "source": [
        "import random\n",
        "print = __builtins__.print\n",
        "ply = int(input('請輸入出拳選擇:'))\n",
        "cmp = int(random.choice([0,2,5]))\n",
        "\n",
        "print('computer:',cmp)\n",
        "if ply == cmp:\n",
        "    print('Draw')\n",
        "elif (cmp == 0 and ply == 2) or (cmp == 2 and ply == 5) or (cmp == 5 and ply == 0):\n",
        "    print('You lose')\n",
        "else:\n",
        "    print('You win')"
      ]
    }
  ]
}