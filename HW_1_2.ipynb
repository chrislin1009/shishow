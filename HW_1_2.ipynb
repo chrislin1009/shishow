{
  "nbformat": 4,
  "nbformat_minor": 0,
  "metadata": {
    "colab": {
      "provenance": [],
      "authorship_tag": "ABX9TyPl1rSD7m/TpoiGal/+BOls",
      "include_colab_link": true
    },
    "kernelspec": {
      "name": "python3",
      "display_name": "Python 3"
    },
    "language_info": {
      "name": "python"
    }
  },
  "cells": [
    {
      "cell_type": "markdown",
      "metadata": {
        "id": "view-in-github",
        "colab_type": "text"
      },
      "source": [
        "<a href=\"https://colab.research.google.com/github/chrislin1009/shishow/blob/main/HW_1_2.ipynb\" target=\"_parent\"><img src=\"https://colab.research.google.com/assets/colab-badge.svg\" alt=\"Open In Colab\"/></a>"
      ]
    },
    {
      "cell_type": "markdown",
      "source": [
        "## 題目"
      ],
      "metadata": {
        "id": "ysBFpMIK_S_s"
      }
    },
    {
      "cell_type": "markdown",
      "source": [
        "悠然動畫 2025年7月新番一覽"
      ],
      "metadata": {
        "id": "g642qCxY_s5o"
      }
    },
    {
      "cell_type": "markdown",
      "source": [
        "## 摘要"
      ],
      "metadata": {
        "id": "sz-mfafa_jEy"
      }
    },
    {
      "cell_type": "markdown",
      "source": [
        "本次作業透過網路爬蟲技術，收集平台所提供之2025年7月新番情報，提供給ACG用戶使用。"
      ],
      "metadata": {
        "id": "_9eE3EFpADDs"
      }
    },
    {
      "cell_type": "markdown",
      "source": [
        "## 引言"
      ],
      "metadata": {
        "id": "KuZuS0VUAphn"
      }
    },
    {
      "cell_type": "markdown",
      "source": [
        "由於近年來大眾對 ACG 產業逐漸接納，引入了許多初次接觸動畫作品的觀眾，得以獲得最新資訊自然是最為重要的。因此，本次爬蟲的目標是為了獲取2025年7月份新番上映資訊，並附上播出形式、作品元素等資訊，提供給觀眾更直接的作品資訊。"
      ],
      "metadata": {
        "id": "IDS_pkuAA1v6"
      }
    },
    {
      "cell_type": "markdown",
      "source": [
        "## 方法"
      ],
      "metadata": {
        "id": "UP4mRrhfCw25"
      }
    },
    {
      "cell_type": "markdown",
      "source": [
        "**目標網站描述**\n",
        "\n",
        "*   目標網站: 悠然動畫 2025年7月新番一覽 https://youranimes.tw/bangumi/202507\n",
        "*   頁面結構: 包含作品名稱、作品資訊、播出形式、作品形式等資訊\n",
        "\n",
        "**使用工具與技術**\n",
        "\n",
        "*   使用 Python 的 requests 庫發送 HTTP 請求。\n",
        "*   使用 BeautifulSoup 解析 HTML。\n"
      ],
      "metadata": {
        "id": "ggcKlICKCzSR"
      }
    },
    {
      "cell_type": "code",
      "source": [
        "# 安裝必要套件\n",
        "!pip install beautifulsoup4 requests\n",
        "\n",
        "# 匯入模組\n",
        "import requests\n",
        "from bs4 import BeautifulSoup\n",
        "import pandas as pd"
      ],
      "metadata": {
        "colab": {
          "base_uri": "https://localhost:8080/"
        },
        "id": "OWYC476N4zCn",
        "outputId": "71b5dae9-3e14-49e1-9316-d930758653a2"
      },
      "execution_count": null,
      "outputs": [
        {
          "output_type": "stream",
          "name": "stdout",
          "text": [
            "Requirement already satisfied: beautifulsoup4 in /usr/local/lib/python3.11/dist-packages (4.13.4)\n",
            "Requirement already satisfied: requests in /usr/local/lib/python3.11/dist-packages (2.32.3)\n",
            "Requirement already satisfied: soupsieve>1.2 in /usr/local/lib/python3.11/dist-packages (from beautifulsoup4) (2.7)\n",
            "Requirement already satisfied: typing-extensions>=4.0.0 in /usr/local/lib/python3.11/dist-packages (from beautifulsoup4) (4.14.0)\n",
            "Requirement already satisfied: charset-normalizer<4,>=2 in /usr/local/lib/python3.11/dist-packages (from requests) (3.4.2)\n",
            "Requirement already satisfied: idna<4,>=2.5 in /usr/local/lib/python3.11/dist-packages (from requests) (3.10)\n",
            "Requirement already satisfied: urllib3<3,>=1.21.1 in /usr/local/lib/python3.11/dist-packages (from requests) (2.4.0)\n",
            "Requirement already satisfied: certifi>=2017.4.17 in /usr/local/lib/python3.11/dist-packages (from requests) (2025.4.26)\n"
          ]
        }
      ]
    },
    {
      "cell_type": "code",
      "source": [
        "# @title\n",
        "# 悠然動畫 2025 年 7 月夏季新番網址\n",
        "url = \"https://youranimes.tw/bangumi/202507\"\n",
        "\n",
        "# 模擬使用者 headers\n",
        "headers = {\n",
        "    \"User-Agent\": \"Mozilla/5.0 (Windows NT 10.0; Win64; x64) AppleWebKit/537.36 (KHTML, like Gecko) Chrome/114.0.0.0 Safari/537.36\"\n",
        "}\n",
        "\n",
        "# 發送請求\n",
        "res = requests.get(url, headers=headers)\n",
        "\n",
        "# 使用 BeautifulSoup 解析\n",
        "soup = BeautifulSoup(res.text, \"html.parser\")\n",
        "anime_cards = soup.select(\".bangumi-card\")\n",
        "\n",
        "# 資料列表\n",
        "anime_list = []\n",
        "\n",
        "# 逐筆提取資料（不含圖片）\n",
        "for card in anime_cards:\n",
        "    season_title = card.select_one(\".bangumi-title\")\n",
        "    season_title = season_title.get_text(strip=True) if season_title else \"N/A\"\n",
        "\n",
        "    alt_title = card.select_one(\".bangumi-original-title\")\n",
        "    alt_title = alt_title.get_text(strip=True) if alt_title else \"N/A\"\n",
        "\n",
        "    air_date = card.select_one(\".bangumi-date\")\n",
        "    air_date = air_date.get_text(strip=True) if air_date else \"N/A\"\n",
        "\n",
        "    platform = card.select_one(\".bangumi-station\")\n",
        "    platform = platform.get_text(strip=True) if platform else \"N/A\"\n",
        "\n",
        "    tags = card.select(\".bangumi-type > span\")\n",
        "    tag_str = \", \".join([tag.get_text(strip=True) for tag in tags]) if tags else \"N/A\"\n",
        "\n",
        "    # 儲存（不含圖片）\n",
        "    anime_list.append({\n",
        "        \"番名\": season_title,\n",
        "        \"原名\": alt_title,\n",
        "        \"首播日期\": air_date,\n",
        "        \"平台\": platform,\n",
        "        \"類型\": tag_str\n",
        "    })\n",
        "\n",
        "# 建立 DataFrame 並顯示\n",
        "anime_df = pd.DataFrame(anime_list)\n",
        "anime_df.head()\n"
      ],
      "metadata": {
        "id": "FSxSf4zL4ywW"
      },
      "execution_count": null,
      "outputs": []
    }
  ]
}