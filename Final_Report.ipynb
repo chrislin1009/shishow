{
  "nbformat": 4,
  "nbformat_minor": 0,
  "metadata": {
    "colab": {
      "provenance": [],
      "authorship_tag": "ABX9TyMjIrzsTGlZUya3mVcbE7He",
      "include_colab_link": true
    },
    "kernelspec": {
      "name": "python3",
      "display_name": "Python 3"
    },
    "language_info": {
      "name": "python"
    }
  },
  "cells": [
    {
      "cell_type": "markdown",
      "metadata": {
        "id": "view-in-github",
        "colab_type": "text"
      },
      "source": [
        "<a href=\"https://colab.research.google.com/github/chrislin1009/shishow/blob/main/Final_Report.ipynb\" target=\"_parent\"><img src=\"https://colab.research.google.com/assets/colab-badge.svg\" alt=\"Open In Colab\"/></a>"
      ]
    },
    {
      "cell_type": "markdown",
      "source": [
        "# ***期末報告 : LINE BOT - chatgpt 你的心理諮商師***"
      ],
      "metadata": {
        "id": "CnabxTCLDvkN"
      }
    },
    {
      "cell_type": "markdown",
      "source": [
        "## 背景與動機"
      ],
      "metadata": {
        "id": "yusb5oECER-4"
      }
    },
    {
      "cell_type": "markdown",
      "source": [
        "本專案旨在將 OpenAI 的 ChatGPT API 整合至 LINE Bot 平台，使用者無需額外下載或學習新的工具，即可透過熟悉的 LINE 聊天介面與 AI 對話，獲得即時回應與互動體驗。此外，透過角色扮演功能，此系統可以透過心理諮商師的口吻，提供心情的抒發及引導，協助使用者走出心情鬱悶亦或是解決心中所產生的疑難雜症。"
      ],
      "metadata": {
        "id": "WWRb3T-pEkUz"
      }
    },
    {
      "cell_type": "markdown",
      "source": [
        "## 目標"
      ],
      "metadata": {
        "id": "-repfZgiFQoz"
      }
    },
    {
      "cell_type": "markdown",
      "source": [
        "-建立一個整合 OpenAI ChatGPT API 的 LINE 聊天機器人。\n",
        "\n",
        "-設定 AI 的對話風格為心理諮商師，透過提問引導使用者深入思考。\n",
        "\n",
        "-提供自然語言輸入與回應的互動介面，讓使用者可在 LINE 中輕鬆與 AI 對話。\n",
        "\n",
        "-實現穩定運作的後端系統，支援上下文記憶與角色持續性，提升對話流暢度與真實感。"
      ],
      "metadata": {
        "id": "wc4XuAoXFd9Y"
      }
    },
    {
      "cell_type": "markdown",
      "source": [
        "## 系統設計與架構"
      ],
      "metadata": {
        "id": "imhIw6ctFnKo"
      }
    },
    {
      "cell_type": "markdown",
      "source": [
        "使 chatgpt 扮演成諮商師的角色 :\n",
        "\n",
        "\n",
        "*   具有同理心，能夠站在對方立場理解其感受與處境，而非只是同情或指導。\n",
        "*   彈性與創造力，面對不同個案時能彈性調整策略，並創造適合當事人的介入方式。\n",
        "*   批判性思考與分析能力，能從言語、行為與背景中分析出心理問題的可能來源，做出合理判斷。\n",
        "\n",
        "*   倫理判斷與決策能力，面對道德兩難時能依據專業倫理做出合適選擇。\n",
        "\n",
        "\n",
        "\n"
      ],
      "metadata": {
        "id": "20jWLRV0FrOx"
      }
    },
    {
      "cell_type": "markdown",
      "source": [
        "## 系統功能分析"
      ],
      "metadata": {
        "id": "nLjpuCoVG7bd"
      }
    },
    {
      "cell_type": "markdown",
      "source": [
        "| 功能項目 | 說明 |\n",
        "|----------|------|\n",
        "| 使用者訊息接收 | 使用者透過 LINE 傳送訊息，Bot 接收並處理 |\n",
        "| Gemini API 連接 | 將使用者訊息轉交至 Google Gemini 並取得 AI 回覆 |\n",
        "| 回應傳送 | Bot 將 Gemini 的回應以文字方式回傳給使用者 |\n",
        "| 基本指令處理 | 回覆「幫助」等內建說明指令，提供使用說明 |\n",
        "| 錯誤處理 | 在 API 異常或超時時提供提示訊息 |"
      ],
      "metadata": {
        "id": "W1K8724CHCPn"
      }
    },
    {
      "cell_type": "markdown",
      "source": [
        "## 使用的技術"
      ],
      "metadata": {
        "id": "u0ZLiB36HdVa"
      }
    },
    {
      "cell_type": "markdown",
      "source": [
        "| 技術項目 | 說明 |\n",
        "|----------|------|\n",
        "| 程式語言 | Python |\n",
        "| 框架 | Flask（建立 webhook） |\n",
        "| 部署平台 | Versel |\n",
        "| API 使用 | Google Gemini API（文字生成），LINE Messaging API（對話） |\n",
        "| 資料格式 | JSON 處理傳輸與接收資料 |"
      ],
      "metadata": {
        "id": "4QvtT6XCHiRQ"
      }
    },
    {
      "cell_type": "markdown",
      "source": [
        "## 成果展示"
      ],
      "metadata": {
        "id": "C1dd038mHqen"
      }
    },
    {
      "cell_type": "code",
      "source": [
        "!pip install flask\n",
        "!pip install pyngrok\n",
        "!pip install flask_ngrok\n",
        "!pip install line-bot-sdk\n",
        "\n",
        "from google.colab import userdata\n",
        "from pyngrok import ngrok\n",
        "from flask_ngrok import run_with_ngrok\n",
        "\n",
        "def ngrok_start():\n",
        "  ngrok.set_auth_token(userdata.get('NGROK'))\n",
        "  ngrok.connect(5000)\n",
        "  run_with_ngrok(app)\n",
        "\n",
        "from flask import Flask, request, abort\n",
        "\n",
        "from linebot.v3 import WebhookHandler\n",
        "from linebot.v3.exceptions import InvalidSignatureError\n",
        "from linebot.v3.messaging import (\n",
        "    Configuration,\n",
        "    ApiClient,\n",
        "    MessagingApi,\n",
        "    ReplyMessageRequest,\n",
        "    TextMessage\n",
        ")\n",
        "from linebot.v3.webhooks import (\n",
        "    MessageEvent,\n",
        "    TextMessageContent\n",
        ")\n",
        "\n",
        "app = Flask(__name__)\n",
        "\n",
        "configuration = Configuration(access_token=userdata.get(\"LINE_CHANNEL_ACCESS_TOKEN\"))\n",
        "handler = WebhookHandler(userdata.get('LINE_CHANNEL_SECRET'))\n",
        "\n",
        "@app.route(\"/callback\", methods=['POST'])\n",
        "def callback():\n",
        "    signature = request.headers['X-Line-Signature']\n",
        "    body = request.get_data(as_text=True)\n",
        "    app.logger.info(\"Request body: \" + body)\n",
        "    try:\n",
        "        handler.handle(body, signature)\n",
        "    except InvalidSignatureError:\n",
        "        app.logger.info(\"Invalid signature. Please check your channel access token/channel secret.\")\n",
        "        abort(400)\n",
        "    return 'OK'\n",
        "\n",
        "\n",
        "\n",
        "\n",
        "### ChatGPT 配置\n",
        "import openai\n",
        "from openai import OpenAI\n",
        "\n",
        "client = OpenAI(api_key=userdata.get(\"OPENAI_API_KEY\"))\n",
        "\n",
        "def ask_chatgpt(user_input):\n",
        "    response = client.chat.completions.create(\n",
        "        model=\"gpt-4\",\n",
        "        messages=[\n",
        "            {\"role\": \"system\", \"content\": (\n",
        "                \"你的身分是一位心理諮商師，面對不同個案時能彈性調整策略，並創造適合當事人的介入方式。\"\n",
        "                \"具有批判性思考與分析能力，能從言語、行為與背景中分析出心理問題的可能來源，做出合理判斷。\"\n",
        "                \"具有同理心，能夠站在對方立場理解其感受與處境，而非只是同情或指導。\"\n",
        "            )},\n",
        "            {\"role\": \"user\", \"content\": user_input}\n",
        "        ]\n",
        "    )\n",
        "    return response.choices[0].message.content\n",
        "\n",
        "\n",
        "@handler.add(MessageEvent, message=TextMessageContent)\n",
        "def handle_message(event):\n",
        "    with ApiClient(configuration) as api_client:\n",
        "        line_bot_api = MessagingApi(api_client)\n",
        "        user_msg = event.message.text\n",
        "        response = ask_chatgpt(user_msg)\n",
        "        line_bot_api.reply_message_with_http_info(\n",
        "            ReplyMessageRequest(\n",
        "                reply_token=event.reply_token,\n",
        "                messages=[TextMessage(text=response)]\n",
        "            )\n",
        "        )\n",
        "\n",
        "ngrok_start()  # for colab\n",
        "\n",
        "if __name__ == \"__main__\":\n",
        "    app.run()\n"
      ],
      "metadata": {
        "id": "WXvPPeXeH1aN"
      },
      "execution_count": null,
      "outputs": []
    },
    {
      "cell_type": "markdown",
      "source": [
        "## 未來發展與改進"
      ],
      "metadata": {
        "id": "wh5YpCUoPh_q"
      }
    },
    {
      "cell_type": "markdown",
      "source": [
        "### 改進建議  \n",
        "- 加入「上下文記憶」功能，讓 AI 理解前後對話關聯   \n",
        "- 強化錯誤處理與用戶提示，提升使用者體驗\n",
        "\n",
        "### 未來規劃  \n",
        "- 整合圖像生成功能（如 Gemini 支援圖片輸出）  \n",
        "- 支援語音輸入與 TTS 回覆  \n",
        "- 能切換成不同角色或是性別進行回答"
      ],
      "metadata": {
        "id": "AZdscS46PyQA"
      }
    }
  ]
}