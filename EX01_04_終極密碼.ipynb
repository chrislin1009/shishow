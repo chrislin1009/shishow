{
  "nbformat": 4,
  "nbformat_minor": 0,
  "metadata": {
    "colab": {
      "provenance": [],
      "authorship_tag": "ABX9TyNv0p0Z0XCohGeDGFwnh8gt",
      "include_colab_link": true
    },
    "kernelspec": {
      "name": "python3",
      "display_name": "Python 3"
    },
    "language_info": {
      "name": "python"
    }
  },
  "cells": [
    {
      "cell_type": "markdown",
      "metadata": {
        "id": "view-in-github",
        "colab_type": "text"
      },
      "source": [
        "<a href=\"https://colab.research.google.com/github/chrislin1009/shishow/blob/main/EX01_04_%E7%B5%82%E6%A5%B5%E5%AF%86%E7%A2%BC.ipynb\" target=\"_parent\"><img src=\"https://colab.research.google.com/assets/colab-badge.svg\" alt=\"Open In Colab\"/></a>"
      ]
    },
    {
      "cell_type": "code",
      "execution_count": 5,
      "metadata": {
        "id": "TqSUiRVZJtHq",
        "colab": {
          "base_uri": "https://localhost:8080/"
        },
        "outputId": "bab4a537-7cb5-4492-db82-08315605311b"
      },
      "outputs": [
        {
          "output_type": "stream",
          "name": "stdout",
          "text": [
            "0 - 100\n",
            "guess:1\n",
            "1 - 100\n",
            "guess:0\n",
            "超出範圍\n",
            "1 - 100\n",
            "guess:8\n",
            "8 - 100\n",
            "guess:9\n",
            "9 - 100\n",
            "guess:12\n",
            "9 - 12\n",
            "guess:11\n",
            "9 - 11\n",
            "guess:10\n",
            "猜中了\n"
          ]
        }
      ],
      "source": [
        "import random\n",
        "bomb = random.randint(1, 99)\n",
        "\n",
        "lf = 0\n",
        "rf = 100\n",
        "\n",
        "while True:\n",
        "  print(lf,'-',rf)\n",
        "  gu = int(input('guess:'))\n",
        "  if gu < 1 or gu > 99:\n",
        "    print('超出範圍')\n",
        "  elif gu < bomb:\n",
        "    lf = gu\n",
        "  elif gu > bomb:\n",
        "    rf = gu\n",
        "  else:\n",
        "    print('猜中了')\n",
        "    break\n"
      ]
    }
  ]
}